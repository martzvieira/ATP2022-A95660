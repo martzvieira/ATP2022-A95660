{
 "cells": [
  {
   "cell_type": "code",
   "execution_count": 4,
   "metadata": {},
   "outputs": [
    {
     "name": "stdout",
     "output_type": "stream",
     "text": [
      "50\n",
      "25\n",
      "37\n",
      "31\n",
      "28\n",
      "26\n",
      "Acertou o número!\n",
      "Acertei em 6 tentativas!\n"
     ]
    }
   ],
   "source": [
    "def adivinhe():\n",
    "    ne=0\n",
    "    nd=100\n",
    "    nm=int(100/2)\n",
    "    t=1\n",
    "    print(nm)\n",
    "    r=input('É este o seu número?')\n",
    "    \n",
    "    while(r=='não' or r=='no'):\n",
    "        r2=input('É acima ou abaixo do número?')\n",
    "        if(r2=='acima'):\n",
    "            ne=nm\n",
    "        elif(r2=='abaixo'):\n",
    "            nd=nm\n",
    "        s=ne+nd\n",
    "        nm=int(s/2)\n",
    "        print(nm)\n",
    "        r=input('É este o seu número?')\n",
    "        t=t+1\n",
    "        if(r=='sim' or r=='yes'):\n",
    "            print('Acertou o número!')\n",
    "            print('Acertei em', t, 'tentativas!')\n",
    "adivinhe()        "
   ]
  },
  {
   "cell_type": "code",
   "execution_count": null,
   "metadata": {},
   "outputs": [],
   "source": []
  }
 ],
 "metadata": {
  "kernelspec": {
   "display_name": "Python 3.9.0 64-bit",
   "language": "python",
   "name": "python3"
  },
  "language_info": {
   "codemirror_mode": {
    "name": "ipython",
    "version": 3
   },
   "file_extension": ".py",
   "mimetype": "text/x-python",
   "name": "python",
   "nbconvert_exporter": "python",
   "pygments_lexer": "ipython3",
   "version": "3.9.0"
  },
  "orig_nbformat": 4,
  "vscode": {
   "interpreter": {
    "hash": "d9c34dadccdc9a8ad5632a11cc6acc00cf8d7ca3eded45a8302fd245d1e98056"
   }
  }
 },
 "nbformat": 4,
 "nbformat_minor": 2
}
