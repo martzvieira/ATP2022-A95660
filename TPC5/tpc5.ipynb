{
 "cells": [
  {
   "cell_type": "code",
   "execution_count": null,
   "metadata": {},
   "outputs": [],
   "source": [
    "#TPC 5\n",
    "\n",
    "def ler(filename):\n",
    "    f=open(str(filename),\"r\")\n",
    "    modelo = []\n",
    "    for line in f:\n",
    "        paciente = line.split(',')\n",
    "        modelo.append(paciente)\n",
    "    f.close()\n",
    "    return modelo[1:]\n",
    "\n",
    "def distSexo(modelo):\n",
    "    doentesM, doentesF = 0,0\n",
    "    for paciente in modelo:\n",
    "        if int(paciente[-1]) == 1:\n",
    "            if paciente[1] == 'F':\n",
    "                doentesF = doentesF + 1\n",
    "            else:\n",
    "                doentesM = doentesM + 1\n",
    "    \n",
    "    return (doentesM, doentesF)\n",
    "\n",
    "def distEtaria(modelo):\n",
    "    distIdade = []\n",
    "    idadeMinLimite = 30\n",
    "    while idadeMinLimite <= 79:\n",
    "        contadorNumeroDoentes = 0\n",
    "        for paciente in modelo:\n",
    "            #idade do paciente no intervalo e é doente\n",
    "            if int(paciente[0]) >= idadeMinLimite and int(paciente[0]) <= idadeMinLimite+4 and int(paciente[-1]) == 1:\n",
    "                contadorNumeroDoentes = contadorNumeroDoentes + 1\n",
    "        distIdade.append((str(idadeMinLimite) + '-' + str(idadeMinLimite+4),contadorNumeroDoentes))\n",
    "        idadeMinLimite = idadeMinLimite + 5\n",
    " \n",
    "    return distIdade\n",
    "\n",
    "def removezeros(lista):\n",
    "    listanova = []\n",
    "    for tuplo in lista:\n",
    "        if tuplo[1] != 0:\n",
    "            listanova.append(tuplo)\n",
    "    return listanova\n",
    "\n",
    "def distColesterol(modelo):\n",
    "    distColesterol = []\n",
    "    colesterolMinLimite = 85\n",
    "    while colesterolMinLimite <= 603:\n",
    "        contadorNumeroDoentes = 0\n",
    "        for paciente in modelo: #[85,95[,[95,105[\n",
    "            if int(paciente[2]) >= colesterolMinLimite and int(paciente[2]) < colesterolMinLimite+10 and int(paciente[-1]) == 1:\n",
    "                contadorNumeroDoentes = contadorNumeroDoentes + 1\n",
    "        distColesterol.append((str(colesterolMinLimite) + '-' + str(colesterolMinLimite+9),contadorNumeroDoentes))\n",
    "        colesterolMinLimite = colesterolMinLimite + 10\n",
    "\n",
    "    return distColesterol\n"
   ]
  }
 ],
 "metadata": {
  "kernelspec": {
   "display_name": "Python 3.9.0 64-bit",
   "language": "python",
   "name": "python3"
  },
  "language_info": {
   "name": "python",
   "version": "3.9.0"
  },
  "orig_nbformat": 4,
  "vscode": {
   "interpreter": {
    "hash": "d9c34dadccdc9a8ad5632a11cc6acc00cf8d7ca3eded45a8302fd245d1e98056"
   }
  }
 },
 "nbformat": 4,
 "nbformat_minor": 2
}
